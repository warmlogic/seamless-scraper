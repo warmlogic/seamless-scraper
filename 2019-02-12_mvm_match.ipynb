{
 "cells": [
  {
   "cell_type": "markdown",
   "metadata": {
    "toc": true
   },
   "source": [
    "<h1>Table of Contents<span class=\"tocSkip\"></span></h1>\n",
    "<div class=\"toc\"><ul class=\"toc-item\"></ul></div>"
   ]
  },
  {
   "cell_type": "code",
   "execution_count": 1,
   "metadata": {
    "ExecuteTime": {
     "end_time": "2019-02-13T15:57:01.164020Z",
     "start_time": "2019-02-13T15:57:00.177625Z"
    }
   },
   "outputs": [],
   "source": [
    "%matplotlib inline\n",
    "%config InlineBackend.figure_formats = {'png', 'retina'}\n",
    "\n",
    "%load_ext autoreload\n",
    "# \"1\" means: always reload modules marked with \"%aimport\"\n",
    "# \"2\" means: always reload all modules except those marked with \"%aimport\"\n",
    "%autoreload 1\n",
    "\n",
    "# from pathlib import Path\n",
    "# import sys\n",
    "# import os\n",
    "\n",
    "import matplotlib.pyplot as plt\n",
    "\n",
    "import numpy as np\n",
    "import pandas as pd\n",
    "\n",
    "from tqdm import tqdm_notebook\n",
    "\n",
    "from postal.expand import expand_address\n",
    "# from postal.parser import parse_address\n",
    "\n",
    "from fuzzywuzzy import process\n",
    "from fuzzywuzzy import fuzz\n",
    "\n",
    "plt.rc('figure', figsize=(8.0, 6.0))\n",
    "\n",
    "pd.set_option('display.max_columns', 100)\n",
    "pd.set_option('display.max_rows', 100)\n",
    "# np.set_printoptions(precision=4, linewidth=100)"
   ]
  },
  {
   "cell_type": "code",
   "execution_count": 2,
   "metadata": {
    "ExecuteTime": {
     "end_time": "2019-02-13T15:57:03.249804Z",
     "start_time": "2019-02-13T15:57:01.166725Z"
    }
   },
   "outputs": [],
   "source": [
    "filename_inspect = 'data/DOHMH_New_York_City_Restaurant_Inspection_Results.csv'\n",
    "filename_rest = 'data/restaurants_nyc_dedupe.csv'\n",
    "\n",
    "df_rest = pd.read_csv(filename_rest)\n",
    "df_inspect = pd.read_csv(filename_inspect)"
   ]
  },
  {
   "cell_type": "code",
   "execution_count": 3,
   "metadata": {
    "ExecuteTime": {
     "end_time": "2019-02-13T15:57:03.272256Z",
     "start_time": "2019-02-13T15:57:03.252878Z"
    }
   },
   "outputs": [],
   "source": [
    "df_rest['address'] = df_rest['address'].str.replace('.', '')\n",
    "df_rest['address'] = df_rest['address'].str.replace(f', NY, ', ', New York, ', case=True, regex=False)\n",
    "\n",
    "# df_rest['name'] = df_rest['name'].str.title()\n",
    "# df_rest['address'] = df_rest['address'].str.title()"
   ]
  },
  {
   "cell_type": "code",
   "execution_count": 4,
   "metadata": {
    "ExecuteTime": {
     "end_time": "2019-02-13T15:57:03.629821Z",
     "start_time": "2019-02-13T15:57:03.275584Z"
    }
   },
   "outputs": [],
   "source": [
    "# drop some records with nulls\n",
    "df_inspect = df_inspect.dropna(subset=['DBA', 'BUILDING', 'STREET', 'BORO', 'ZIPCODE'], how='any')\n",
    "\n",
    "# remove duplicated rows to end up with one row per establishment\n",
    "# (originally, each row is a report, not an establishment)\n",
    "df_inspect = df_inspect.drop_duplicates(subset=['CAMIS'], keep='first')\n",
    "\n",
    "df_inspect['STATE'] = 'New York'\n",
    "\n",
    "df_inspect['BUILDING'] = df_inspect['BUILDING'].astype(str)\n",
    "df_inspect['ZIPCODE'] = df_inspect['ZIPCODE'].astype(int).astype(str)\n",
    "\n",
    "df_inspect = df_inspect.rename(columns={'DBA': 'name'})\n",
    "\n",
    "df_inspect['name'] = df_inspect['name'].str.title()\n",
    "df_inspect['BORO'] = df_inspect['BORO'].str.title()\n",
    "df_inspect['STREET'] = df_inspect['STREET'].str.title().str.replace('.', '')"
   ]
  },
  {
   "cell_type": "code",
   "execution_count": 5,
   "metadata": {
    "ExecuteTime": {
     "end_time": "2019-02-13T15:57:04.457947Z",
     "start_time": "2019-02-13T15:57:03.632435Z"
    }
   },
   "outputs": [],
   "source": [
    "# df_rest['address'].str.split(',', n=1).str[0].str.rsplit(' ').str[-1].value_counts().index.tolist()\n",
    "\n",
    "to_replace = {\n",
    "    'St': 'Street',\n",
    "    'Ave': 'Avenue',\n",
    "    'Ln': 'Lane',\n",
    "    'Pl': 'Place',\n",
    "    'Blvd': 'Boulevard',\n",
    "    'Ste': 'Suite',\n",
    "    'Cir': 'Circle',\n",
    "    'Fl': 'Floor',\n",
    "    'Plz': 'Plaza',\n",
    "    'Tpke': 'Turnpike',\n",
    "    'Rd': 'Road',\n",
    "    'Frnt': 'Front',\n",
    "    'Hwy': 'Highway',\n",
    "    'Sq': 'Square',\n",
    "    'Expy': 'Expressway',\n",
    "    'Ctr': 'Center',\n",
    "    'Ter': 'Terrace',\n",
    "    'Dr': 'Drive',\n",
    "    'Bld': 'Building',\n",
    "}\n",
    "\n",
    "for k, v in to_replace.items():\n",
    "    df_rest['address'] = df_rest['address'].str.replace(rf'\\b{k}\\b', v, case=False, regex=True)\n",
    "    df_inspect['STREET'] = df_inspect['STREET'].str.replace(rf'\\b{k}\\b', v, case=False, regex=True)"
   ]
  },
  {
   "cell_type": "code",
   "execution_count": 6,
   "metadata": {
    "ExecuteTime": {
     "end_time": "2019-02-13T15:57:04.524009Z",
     "start_time": "2019-02-13T15:57:04.459929Z"
    }
   },
   "outputs": [],
   "source": [
    "df_inspect['address'] = df_inspect['BUILDING'].str.cat(\n",
    "    df_inspect['STREET'], sep=' ').str.cat(\n",
    "    df_inspect['BORO'], sep=', ').str.cat(\n",
    "    df_inspect['STATE'], sep=', ').str.cat(\n",
    "    df_inspect['ZIPCODE'], sep=', ')\n",
    "\n",
    "df_inspect['address'] = df_inspect['address'].str.replace('.', '')"
   ]
  },
  {
   "cell_type": "code",
   "execution_count": 7,
   "metadata": {
    "ExecuteTime": {
     "end_time": "2019-02-13T15:57:05.295768Z",
     "start_time": "2019-02-13T15:57:04.525980Z"
    }
   },
   "outputs": [],
   "source": [
    "df_rest.to_csv('data/restaurants_nyc_dedupe_processed.csv')\n",
    "df_inspect.to_csv('data/DOHMH_New_York_City_Restaurant_Inspection_Results_processed.csv')"
   ]
  },
  {
   "cell_type": "code",
   "execution_count": 8,
   "metadata": {
    "ExecuteTime": {
     "end_time": "2019-02-13T15:57:05.309885Z",
     "start_time": "2019-02-13T15:57:05.297747Z"
    }
   },
   "outputs": [
    {
     "name": "stdout",
     "output_type": "stream",
     "text": [
      "(9979, 2)\n"
     ]
    },
    {
     "data": {
      "text/html": [
       "<div>\n",
       "<style scoped>\n",
       "    .dataframe tbody tr th:only-of-type {\n",
       "        vertical-align: middle;\n",
       "    }\n",
       "\n",
       "    .dataframe tbody tr th {\n",
       "        vertical-align: top;\n",
       "    }\n",
       "\n",
       "    .dataframe thead th {\n",
       "        text-align: right;\n",
       "    }\n",
       "</style>\n",
       "<table border=\"1\" class=\"dataframe\">\n",
       "  <thead>\n",
       "    <tr style=\"text-align: right;\">\n",
       "      <th></th>\n",
       "      <th>address</th>\n",
       "      <th>name</th>\n",
       "    </tr>\n",
       "  </thead>\n",
       "  <tbody>\n",
       "    <tr>\n",
       "      <th>4919</th>\n",
       "      <td>132 E 56th Street, New York, New York, 10022</td>\n",
       "      <td>Pizza by Certe</td>\n",
       "    </tr>\n",
       "    <tr>\n",
       "      <th>7377</th>\n",
       "      <td>1431 Prospect Avenue, Bronx, New York, 10456</td>\n",
       "      <td>Mr Grill Deli</td>\n",
       "    </tr>\n",
       "    <tr>\n",
       "      <th>5520</th>\n",
       "      <td>3411 Jerome Avenue, Bronx, New York, 10467</td>\n",
       "      <td>Popeye's</td>\n",
       "    </tr>\n",
       "    <tr>\n",
       "      <th>9261</th>\n",
       "      <td>445 Albee Square, Brooklyn, New York, 11201</td>\n",
       "      <td>Eight Turn Crepe (Dekalb Market Hall)</td>\n",
       "    </tr>\n",
       "    <tr>\n",
       "      <th>2892</th>\n",
       "      <td>47 W 55th Street, New York, New York, 10019</td>\n",
       "      <td>Dim Sum Palace</td>\n",
       "    </tr>\n",
       "  </tbody>\n",
       "</table>\n",
       "</div>"
      ],
      "text/plain": [
       "                                           address  \\\n",
       "4919  132 E 56th Street, New York, New York, 10022   \n",
       "7377  1431 Prospect Avenue, Bronx, New York, 10456   \n",
       "5520    3411 Jerome Avenue, Bronx, New York, 10467   \n",
       "9261   445 Albee Square, Brooklyn, New York, 11201   \n",
       "2892   47 W 55th Street, New York, New York, 10019   \n",
       "\n",
       "                                       name  \n",
       "4919                         Pizza by Certe  \n",
       "7377                          Mr Grill Deli  \n",
       "5520                               Popeye's  \n",
       "9261  Eight Turn Crepe (Dekalb Market Hall)  \n",
       "2892                         Dim Sum Palace  "
      ]
     },
     "execution_count": 8,
     "metadata": {},
     "output_type": "execute_result"
    }
   ],
   "source": [
    "print(df_rest.shape)\n",
    "\n",
    "df_rest.sample(n=5)"
   ]
  },
  {
   "cell_type": "code",
   "execution_count": 9,
   "metadata": {
    "ExecuteTime": {
     "end_time": "2019-02-13T15:57:05.361115Z",
     "start_time": "2019-02-13T15:57:05.312006Z"
    }
   },
   "outputs": [
    {
     "name": "stdout",
     "output_type": "stream",
     "text": [
      "(26067, 20)\n"
     ]
    },
    {
     "data": {
      "text/html": [
       "<div>\n",
       "<style scoped>\n",
       "    .dataframe tbody tr th:only-of-type {\n",
       "        vertical-align: middle;\n",
       "    }\n",
       "\n",
       "    .dataframe tbody tr th {\n",
       "        vertical-align: top;\n",
       "    }\n",
       "\n",
       "    .dataframe thead th {\n",
       "        text-align: right;\n",
       "    }\n",
       "</style>\n",
       "<table border=\"1\" class=\"dataframe\">\n",
       "  <thead>\n",
       "    <tr style=\"text-align: right;\">\n",
       "      <th></th>\n",
       "      <th>CAMIS</th>\n",
       "      <th>name</th>\n",
       "      <th>BORO</th>\n",
       "      <th>BUILDING</th>\n",
       "      <th>STREET</th>\n",
       "      <th>ZIPCODE</th>\n",
       "      <th>PHONE</th>\n",
       "      <th>CUISINE DESCRIPTION</th>\n",
       "      <th>INSPECTION DATE</th>\n",
       "      <th>ACTION</th>\n",
       "      <th>VIOLATION CODE</th>\n",
       "      <th>VIOLATION DESCRIPTION</th>\n",
       "      <th>CRITICAL FLAG</th>\n",
       "      <th>SCORE</th>\n",
       "      <th>GRADE</th>\n",
       "      <th>GRADE DATE</th>\n",
       "      <th>RECORD DATE</th>\n",
       "      <th>INSPECTION TYPE</th>\n",
       "      <th>STATE</th>\n",
       "      <th>address</th>\n",
       "    </tr>\n",
       "  </thead>\n",
       "  <tbody>\n",
       "    <tr>\n",
       "      <th>2303</th>\n",
       "      <td>50056325</td>\n",
       "      <td>Gordo'S Cantina</td>\n",
       "      <td>Queens</td>\n",
       "      <td>2411</td>\n",
       "      <td>Queens Plaza N</td>\n",
       "      <td>11101</td>\n",
       "      <td>6463225227</td>\n",
       "      <td>Mexican</td>\n",
       "      <td>02/21/2018</td>\n",
       "      <td>Violations were cited in the following area(s).</td>\n",
       "      <td>10B</td>\n",
       "      <td>Plumbing not properly installed or maintained;...</td>\n",
       "      <td>Not Critical</td>\n",
       "      <td>22.0</td>\n",
       "      <td>NaN</td>\n",
       "      <td>NaN</td>\n",
       "      <td>02/06/2019</td>\n",
       "      <td>Pre-permit (Operational) / Initial Inspection</td>\n",
       "      <td>New York</td>\n",
       "      <td>2411 Queens Plaza N, Queens, New York, 11101</td>\n",
       "    </tr>\n",
       "    <tr>\n",
       "      <th>26458</th>\n",
       "      <td>50069021</td>\n",
       "      <td>Way Point</td>\n",
       "      <td>Manhattan</td>\n",
       "      <td>65</td>\n",
       "      <td>Ludlow Street</td>\n",
       "      <td>10002</td>\n",
       "      <td>9144837042</td>\n",
       "      <td>CafÃ©/Coffee/Tea</td>\n",
       "      <td>10/23/2017</td>\n",
       "      <td>Violations were cited in the following area(s).</td>\n",
       "      <td>10I</td>\n",
       "      <td>Single service item reused, improperly stored,...</td>\n",
       "      <td>Not Critical</td>\n",
       "      <td>13.0</td>\n",
       "      <td>A</td>\n",
       "      <td>10/23/2017</td>\n",
       "      <td>02/06/2019</td>\n",
       "      <td>Pre-permit (Operational) / Re-inspection</td>\n",
       "      <td>New York</td>\n",
       "      <td>65 Ludlow Street, Manhattan, New York, 10002</td>\n",
       "    </tr>\n",
       "    <tr>\n",
       "      <th>21870</th>\n",
       "      <td>40585479</td>\n",
       "      <td>Casanova Restaurant</td>\n",
       "      <td>Brooklyn</td>\n",
       "      <td>338</td>\n",
       "      <td>Mc Guiness Boulevard</td>\n",
       "      <td>11222</td>\n",
       "      <td>7183890990</td>\n",
       "      <td>Italian</td>\n",
       "      <td>07/18/2017</td>\n",
       "      <td>Violations were cited in the following area(s).</td>\n",
       "      <td>06D</td>\n",
       "      <td>Food contact surface not properly washed, rins...</td>\n",
       "      <td>Critical</td>\n",
       "      <td>13.0</td>\n",
       "      <td>A</td>\n",
       "      <td>07/18/2017</td>\n",
       "      <td>02/06/2019</td>\n",
       "      <td>Cycle Inspection / Initial Inspection</td>\n",
       "      <td>New York</td>\n",
       "      <td>338 Mc Guiness Boulevard, Brooklyn, New York, ...</td>\n",
       "    </tr>\n",
       "    <tr>\n",
       "      <th>17784</th>\n",
       "      <td>50055159</td>\n",
       "      <td>Masakari Fusion</td>\n",
       "      <td>Brooklyn</td>\n",
       "      <td>1631</td>\n",
       "      <td>Sheepshead Bay Road</td>\n",
       "      <td>11235</td>\n",
       "      <td>7183323899</td>\n",
       "      <td>Japanese</td>\n",
       "      <td>11/20/2018</td>\n",
       "      <td>Violations were cited in the following area(s).</td>\n",
       "      <td>06F</td>\n",
       "      <td>Wiping cloths soiled or not stored in sanitizi...</td>\n",
       "      <td>Critical</td>\n",
       "      <td>12.0</td>\n",
       "      <td>A</td>\n",
       "      <td>11/20/2018</td>\n",
       "      <td>02/06/2019</td>\n",
       "      <td>Cycle Inspection / Initial Inspection</td>\n",
       "      <td>New York</td>\n",
       "      <td>1631 Sheepshead Bay Road, Brooklyn, New York, ...</td>\n",
       "    </tr>\n",
       "    <tr>\n",
       "      <th>15499</th>\n",
       "      <td>40401093</td>\n",
       "      <td>French Roast</td>\n",
       "      <td>Manhattan</td>\n",
       "      <td>2340</td>\n",
       "      <td>Broadway</td>\n",
       "      <td>10024</td>\n",
       "      <td>2127991533</td>\n",
       "      <td>French</td>\n",
       "      <td>09/05/2017</td>\n",
       "      <td>Violations were cited in the following area(s).</td>\n",
       "      <td>10F</td>\n",
       "      <td>Non-food contact surface improperly constructe...</td>\n",
       "      <td>Not Critical</td>\n",
       "      <td>12.0</td>\n",
       "      <td>A</td>\n",
       "      <td>09/05/2017</td>\n",
       "      <td>02/06/2019</td>\n",
       "      <td>Cycle Inspection / Re-inspection</td>\n",
       "      <td>New York</td>\n",
       "      <td>2340 Broadway, Manhattan, New York, 10024</td>\n",
       "    </tr>\n",
       "  </tbody>\n",
       "</table>\n",
       "</div>"
      ],
      "text/plain": [
       "          CAMIS                 name       BORO BUILDING  \\\n",
       "2303   50056325      Gordo'S Cantina     Queens     2411   \n",
       "26458  50069021            Way Point  Manhattan       65   \n",
       "21870  40585479  Casanova Restaurant   Brooklyn      338   \n",
       "17784  50055159      Masakari Fusion   Brooklyn     1631   \n",
       "15499  40401093         French Roast  Manhattan     2340   \n",
       "\n",
       "                     STREET ZIPCODE       PHONE CUISINE DESCRIPTION  \\\n",
       "2303         Queens Plaza N   11101  6463225227             Mexican   \n",
       "26458         Ludlow Street   10002  9144837042    CafÃ©/Coffee/Tea   \n",
       "21870  Mc Guiness Boulevard   11222  7183890990             Italian   \n",
       "17784   Sheepshead Bay Road   11235  7183323899            Japanese   \n",
       "15499              Broadway   10024  2127991533              French   \n",
       "\n",
       "      INSPECTION DATE                                           ACTION  \\\n",
       "2303       02/21/2018  Violations were cited in the following area(s).   \n",
       "26458      10/23/2017  Violations were cited in the following area(s).   \n",
       "21870      07/18/2017  Violations were cited in the following area(s).   \n",
       "17784      11/20/2018  Violations were cited in the following area(s).   \n",
       "15499      09/05/2017  Violations were cited in the following area(s).   \n",
       "\n",
       "      VIOLATION CODE                              VIOLATION DESCRIPTION  \\\n",
       "2303             10B  Plumbing not properly installed or maintained;...   \n",
       "26458            10I  Single service item reused, improperly stored,...   \n",
       "21870            06D  Food contact surface not properly washed, rins...   \n",
       "17784            06F  Wiping cloths soiled or not stored in sanitizi...   \n",
       "15499            10F  Non-food contact surface improperly constructe...   \n",
       "\n",
       "      CRITICAL FLAG  SCORE GRADE  GRADE DATE RECORD DATE  \\\n",
       "2303   Not Critical   22.0   NaN         NaN  02/06/2019   \n",
       "26458  Not Critical   13.0     A  10/23/2017  02/06/2019   \n",
       "21870      Critical   13.0     A  07/18/2017  02/06/2019   \n",
       "17784      Critical   12.0     A  11/20/2018  02/06/2019   \n",
       "15499  Not Critical   12.0     A  09/05/2017  02/06/2019   \n",
       "\n",
       "                                     INSPECTION TYPE     STATE  \\\n",
       "2303   Pre-permit (Operational) / Initial Inspection  New York   \n",
       "26458       Pre-permit (Operational) / Re-inspection  New York   \n",
       "21870          Cycle Inspection / Initial Inspection  New York   \n",
       "17784          Cycle Inspection / Initial Inspection  New York   \n",
       "15499               Cycle Inspection / Re-inspection  New York   \n",
       "\n",
       "                                                 address  \n",
       "2303        2411 Queens Plaza N, Queens, New York, 11101  \n",
       "26458       65 Ludlow Street, Manhattan, New York, 10002  \n",
       "21870  338 Mc Guiness Boulevard, Brooklyn, New York, ...  \n",
       "17784  1631 Sheepshead Bay Road, Brooklyn, New York, ...  \n",
       "15499          2340 Broadway, Manhattan, New York, 10024  "
      ]
     },
     "execution_count": 9,
     "metadata": {},
     "output_type": "execute_result"
    }
   ],
   "source": [
    "print(df_inspect.shape)\n",
    "\n",
    "df_inspect.sample(n=5)"
   ]
  },
  {
   "cell_type": "code",
   "execution_count": 10,
   "metadata": {
    "ExecuteTime": {
     "end_time": "2019-02-13T15:57:05.365663Z",
     "start_time": "2019-02-13T15:57:05.362732Z"
    }
   },
   "outputs": [],
   "source": [
    "# expand_address('11 W 32nd St Frnt 1 # 6, New York, NY, 10001')\n",
    "\n",
    "# fuzz.ratio(row_rest['address_expand'][0], '31-91 21st st astoria new york 11106')"
   ]
  },
  {
   "cell_type": "code",
   "execution_count": 11,
   "metadata": {
    "ExecuteTime": {
     "end_time": "2019-02-13T15:57:09.596753Z",
     "start_time": "2019-02-13T15:57:05.369696Z"
    }
   },
   "outputs": [],
   "source": [
    "df_rest['address_expand'] = df_rest['address'].apply(expand_address)\n",
    "df_inspect['address_expand'] = df_inspect['address'].apply(expand_address)"
   ]
  },
  {
   "cell_type": "code",
   "execution_count": 12,
   "metadata": {
    "ExecuteTime": {
     "end_time": "2019-02-13T16:36:17.281591Z",
     "start_time": "2019-02-13T15:58:22.673862Z"
    }
   },
   "outputs": [
    {
     "data": {
      "application/vnd.jupyter.widget-view+json": {
       "model_id": "83d1b989082c4976af1d810be8c4cfb5",
       "version_major": 2,
       "version_minor": 0
      },
      "text/plain": [
       "HBox(children=(IntProgress(value=0, max=9979), HTML(value='')))"
      ]
     },
     "metadata": {},
     "output_type": "display_data"
    },
    {
     "name": "stdout",
     "output_type": "stream",
     "text": [
      "\n"
     ]
    }
   ],
   "source": [
    "# compare to 0th expanded address in df_inspect\n",
    "options = df_inspect['address_expand'].apply(lambda x: x[0])\n",
    "\n",
    "df_inspect['fuzzy_matched'] = False\n",
    "df_rest['fuzzy_matched'] = False\n",
    "df_rest['matched_address'] = np.nan\n",
    "df_rest['matched_name'] = np.nan\n",
    "df_rest['matched_index'] = np.nan\n",
    "\n",
    "scorer = fuzz.ratio\n",
    "score_cutoff = 95\n",
    "\n",
    "for idx_rest, row_rest in tqdm_notebook(df_rest.iterrows(), total=df_rest.shape[0]):\n",
    "    result = process.extractOne(row_rest['address_expand'][0], options,\n",
    "                                scorer=scorer,\n",
    "                                score_cutoff=score_cutoff)\n",
    "    if result:\n",
    "        df_rest.loc[idx_rest, 'fuzzy_matched'] = True\n",
    "        df_rest.loc[idx_rest, 'matched_address'] = df_inspect.loc[result[2], 'address']\n",
    "        df_rest.loc[idx_rest, 'matched_name'] = df_inspect.loc[result[2], 'name']\n",
    "        df_rest.loc[idx_rest, 'matched_index'] = result[2]\n",
    "        # print('=' * 30)\n",
    "        # print(result)\n",
    "        \n",
    "        # remove this entry from consideration\n",
    "        options = options[~options.index.isin([result[2]])]\n"
   ]
  },
  {
   "cell_type": "code",
   "execution_count": 13,
   "metadata": {
    "ExecuteTime": {
     "end_time": "2019-02-13T16:36:17.387601Z",
     "start_time": "2019-02-13T16:36:17.284712Z"
    }
   },
   "outputs": [],
   "source": [
    "df_rest.to_csv('data/restaurants_nyc_dedupe_processed_fuzzymatchTo0.csv')"
   ]
  },
  {
   "cell_type": "code",
   "execution_count": null,
   "metadata": {
    "ExecuteTime": {
     "start_time": "2019-02-13T15:58:24.937Z"
    }
   },
   "outputs": [
    {
     "data": {
      "application/vnd.jupyter.widget-view+json": {
       "model_id": "044204d7128a47cab2a13df2be8fd0b4",
       "version_major": 2,
       "version_minor": 0
      },
      "text/plain": [
       "HBox(children=(IntProgress(value=0, max=9979), HTML(value='')))"
      ]
     },
     "metadata": {},
     "output_type": "display_data"
    }
   ],
   "source": [
    "df_inspect['fuzzy_matched'] = False\n",
    "df_rest['fuzzy_matched'] = False\n",
    "df_rest['matched_address'] = np.nan\n",
    "df_rest['matched_name'] = np.nan\n",
    "df_rest['matched_index'] = np.nan\n",
    "\n",
    "scorer = fuzz.ratio\n",
    "score_cutoff = 95\n",
    "\n",
    "for idx_rest, row_rest in tqdm_notebook(df_rest.iterrows(), total=df_rest.shape[0]):\n",
    "    for idx_insp, row_insp in df_inspect.loc[~df_inspect['fuzzy_matched']].iterrows():\n",
    "        # compare to all expanded addresses in df_inspect\n",
    "        result = process.extractOne(row_rest['address_expand'][0], row_insp['address_expand'],\n",
    "                                    scorer=scorer,\n",
    "                                    score_cutoff=score_cutoff)\n",
    "        if result:\n",
    "            df_inspect.loc[idx_insp, 'fuzzy_matched'] = True\n",
    "            df_rest.loc[idx_rest, 'fuzzy_matched'] = True\n",
    "            df_rest.loc[idx_rest, 'matched_address'] = row_insp['address']\n",
    "            df_rest.loc[idx_rest, 'matched_name'] = row_insp['name']\n",
    "            df_rest.loc[idx_rest, 'matched_index'] = idx_insp\n",
    "            # print('=' * 30)\n",
    "            # print(idx_insp)\n",
    "            # print(result)\n",
    "            break\n",
    "\n",
    "#         # compare to 0th expanded address in df_inspect\n",
    "#         if scorer(row_rest['address_expand'][0], row_insp['address_expand'][0]) >= score_cutoff:\n",
    "#             df_inspect.loc[idx_insp, 'fuzzy_matched'] = True\n",
    "#             df_rest.loc[idx_rest, 'fuzzy_matched'] = True\n",
    "#             df_rest.loc[idx_rest, 'matched_address'] = row_insp['address']\n",
    "#             df_rest.loc[idx_rest, 'matched_name'] = row_insp['name']\n",
    "#             df_rest.loc[idx_rest, 'matched_index'] = idx_insp\n",
    "#             # print('=' * 30)\n",
    "#             # print(idx_insp)\n",
    "#             # print(result)\n",
    "#             break"
   ]
  },
  {
   "cell_type": "code",
   "execution_count": null,
   "metadata": {
    "ExecuteTime": {
     "start_time": "2019-02-13T15:58:26.021Z"
    }
   },
   "outputs": [],
   "source": [
    "df_rest.to_csv('data/restaurants_nyc_dedupe_processed_fuzzymatchToAll.csv')"
   ]
  },
  {
   "cell_type": "code",
   "execution_count": null,
   "metadata": {},
   "outputs": [],
   "source": []
  }
 ],
 "metadata": {
  "anaconda-cloud": {},
  "kernelspec": {
   "display_name": "py3",
   "language": "python",
   "name": "py3"
  },
  "language_info": {
   "codemirror_mode": {
    "name": "ipython",
    "version": 3
   },
   "file_extension": ".py",
   "mimetype": "text/x-python",
   "name": "python",
   "nbconvert_exporter": "python",
   "pygments_lexer": "ipython3",
   "version": "3.6.6"
  },
  "toc": {
   "base_numbering": 1,
   "nav_menu": {
    "height": "12px",
    "width": "252px"
   },
   "number_sections": true,
   "sideBar": true,
   "skip_h1_title": false,
   "title_cell": "Table of Contents",
   "title_sidebar": "Contents",
   "toc_cell": true,
   "toc_position": {},
   "toc_section_display": "block",
   "toc_window_display": false
  }
 },
 "nbformat": 4,
 "nbformat_minor": 1
}
