{
 "cells": [
  {
   "cell_type": "markdown",
   "metadata": {
    "toc": true
   },
   "source": [
    "<h1>Table of Contents<span class=\"tocSkip\"></span></h1>\n",
    "<div class=\"toc\"><ul class=\"toc-item\"></ul></div>"
   ]
  },
  {
   "cell_type": "code",
   "execution_count": 1,
   "metadata": {
    "ExecuteTime": {
     "end_time": "2019-02-13T07:44:24.901406Z",
     "start_time": "2019-02-13T07:44:23.954172Z"
    }
   },
   "outputs": [],
   "source": [
    "%matplotlib inline\n",
    "%config InlineBackend.figure_formats = {'png', 'retina'}\n",
    "\n",
    "%load_ext autoreload\n",
    "# \"1\" means: always reload modules marked with \"%aimport\"\n",
    "# \"2\" means: always reload all modules except those marked with \"%aimport\"\n",
    "%autoreload 1\n",
    "\n",
    "# from pathlib import Path\n",
    "# import sys\n",
    "# import os\n",
    "\n",
    "import matplotlib.pyplot as plt\n",
    "\n",
    "import numpy as np\n",
    "import pandas as pd\n",
    "\n",
    "from tqdm import tqdm_notebook\n",
    "\n",
    "from postal.expand import expand_address\n",
    "# from postal.parser import parse_address\n",
    "\n",
    "from fuzzywuzzy import process\n",
    "from fuzzywuzzy import fuzz\n",
    "\n",
    "plt.rc('figure', figsize=(8.0, 6.0))\n",
    "\n",
    "pd.set_option('display.max_columns', 100)\n",
    "pd.set_option('display.max_rows', 100)\n",
    "# np.set_printoptions(precision=4, linewidth=100)"
   ]
  },
  {
   "cell_type": "code",
   "execution_count": 2,
   "metadata": {
    "ExecuteTime": {
     "end_time": "2019-02-13T07:44:27.818891Z",
     "start_time": "2019-02-13T07:44:25.493156Z"
    }
   },
   "outputs": [],
   "source": [
    "filename_inspect = 'data/DOHMH_New_York_City_Restaurant_Inspection_Results.csv'\n",
    "filename_rest = 'data/restaurants_nyc_dedupe.csv'\n",
    "\n",
    "df_rest = pd.read_csv(filename_rest)\n",
    "df_inspect = pd.read_csv(filename_inspect)"
   ]
  },
  {
   "cell_type": "code",
   "execution_count": 3,
   "metadata": {
    "ExecuteTime": {
     "end_time": "2019-02-13T07:44:27.846485Z",
     "start_time": "2019-02-13T07:44:27.821399Z"
    }
   },
   "outputs": [],
   "source": [
    "df_rest['address'] = df_rest['address'].str.replace('.', '')\n",
    "df_rest['address'] = df_rest['address'].str.replace(f', NY, ', ', New York, ', case=True, regex=False)\n",
    "\n",
    "# df_rest['name'] = df_rest['name'].str.title()\n",
    "# df_rest['address'] = df_rest['address'].str.title()"
   ]
  },
  {
   "cell_type": "code",
   "execution_count": 4,
   "metadata": {
    "ExecuteTime": {
     "end_time": "2019-02-13T07:44:30.112001Z",
     "start_time": "2019-02-13T07:44:27.857368Z"
    }
   },
   "outputs": [],
   "source": [
    "df_inspect = df_inspect.dropna(subset=['DBA', 'BUILDING', 'STREET', 'BORO', 'ZIPCODE'], how='any')\n",
    "df_inspect['STATE'] = 'New York'\n",
    "\n",
    "df_inspect['BUILDING'] = df_inspect['BUILDING'].astype(str)\n",
    "df_inspect['ZIPCODE'] = df_inspect['ZIPCODE'].astype(int).astype(str)\n",
    "\n",
    "df_inspect = df_inspect.rename(columns={'DBA': 'name'})\n",
    "\n",
    "df_inspect['name'] = df_inspect['name'].str.title()\n",
    "df_inspect['BORO'] = df_inspect['BORO'].str.title()\n",
    "df_inspect['STREET'] = df_inspect['STREET'].str.title().str.replace('.', '')"
   ]
  },
  {
   "cell_type": "code",
   "execution_count": 5,
   "metadata": {
    "ExecuteTime": {
     "end_time": "2019-02-13T07:44:39.112290Z",
     "start_time": "2019-02-13T07:44:30.115959Z"
    }
   },
   "outputs": [],
   "source": [
    "# df_rest['address'].str.split(',', n=1).str[0].str.rsplit(' ').str[-1].value_counts().index.tolist()\n",
    "\n",
    "to_replace = {\n",
    "    'St': 'Street',\n",
    "    'Ave': 'Avenue',\n",
    "    'Ln': 'Lane',\n",
    "    'Pl': 'Place',\n",
    "    'Blvd': 'Boulevard',\n",
    "    'Ste': 'Suite',\n",
    "    'Cir': 'Circle',\n",
    "    'Fl': 'Floor',\n",
    "    'Plz': 'Plaza',\n",
    "    'Tpke': 'Turnpike',\n",
    "    'Rd': 'Road',\n",
    "    'Frnt': 'Front',\n",
    "    'Hwy': 'Highway',\n",
    "    'Sq': 'Square',\n",
    "    'Expy': 'Expressway',\n",
    "    'Ctr': 'Center',\n",
    "    'Ter': 'Terrace',\n",
    "    'Dr': 'Drive',\n",
    "    'Bld': 'Building',\n",
    "}\n",
    "\n",
    "for k, v in to_replace.items():\n",
    "    df_rest['address'] = df_rest['address'].str.replace(rf'\\b{k}\\b', v, case=False, regex=True)\n",
    "    df_inspect['STREET'] = df_inspect['STREET'].str.replace(rf'\\b{k}\\b', v, case=False, regex=True)"
   ]
  },
  {
   "cell_type": "code",
   "execution_count": 6,
   "metadata": {
    "ExecuteTime": {
     "end_time": "2019-02-13T07:44:40.517430Z",
     "start_time": "2019-02-13T07:44:39.114686Z"
    }
   },
   "outputs": [],
   "source": [
    "df_inspect['address'] = df_inspect['BUILDING'].str.cat(\n",
    "    df_inspect['STREET'], sep=' ').str.cat(\n",
    "    df_inspect['BORO'], sep=', ').str.cat(\n",
    "    df_inspect['STATE'], sep=', ').str.cat(\n",
    "    df_inspect['ZIPCODE'], sep=', ')\n",
    "\n",
    "df_inspect['address'] = df_inspect['address'].str.replace('.', '')"
   ]
  },
  {
   "cell_type": "code",
   "execution_count": 7,
   "metadata": {
    "ExecuteTime": {
     "end_time": "2019-02-13T07:44:40.630541Z",
     "start_time": "2019-02-13T07:44:40.553901Z"
    }
   },
   "outputs": [
    {
     "data": {
      "text/html": [
       "<div>\n",
       "<style scoped>\n",
       "    .dataframe tbody tr th:only-of-type {\n",
       "        vertical-align: middle;\n",
       "    }\n",
       "\n",
       "    .dataframe tbody tr th {\n",
       "        vertical-align: top;\n",
       "    }\n",
       "\n",
       "    .dataframe thead th {\n",
       "        text-align: right;\n",
       "    }\n",
       "</style>\n",
       "<table border=\"1\" class=\"dataframe\">\n",
       "  <thead>\n",
       "    <tr style=\"text-align: right;\">\n",
       "      <th></th>\n",
       "      <th>address</th>\n",
       "      <th>name</th>\n",
       "    </tr>\n",
       "  </thead>\n",
       "  <tbody>\n",
       "    <tr>\n",
       "      <th>9075</th>\n",
       "      <td>201 Hempstead Turnpike, Elmont, New York, 11003</td>\n",
       "      <td>SUBWAY®</td>\n",
       "    </tr>\n",
       "    <tr>\n",
       "      <th>3988</th>\n",
       "      <td>1070 2nd Avenue, New York, New York, 10022</td>\n",
       "      <td>NY Jumbo Bagels</td>\n",
       "    </tr>\n",
       "    <tr>\n",
       "      <th>1048</th>\n",
       "      <td>2137 Nostrand Avenue, Brooklyn, New York, 11210</td>\n",
       "      <td>Fisherman's Cove</td>\n",
       "    </tr>\n",
       "    <tr>\n",
       "      <th>7539</th>\n",
       "      <td>519 6th Avenue, New York, New York, 10011</td>\n",
       "      <td>Cafe Water</td>\n",
       "    </tr>\n",
       "    <tr>\n",
       "      <th>8548</th>\n",
       "      <td>1005 2nd Avenue, New York, New York, 10022</td>\n",
       "      <td>Primavera Pizza</td>\n",
       "    </tr>\n",
       "  </tbody>\n",
       "</table>\n",
       "</div>"
      ],
      "text/plain": [
       "                                              address              name\n",
       "9075  201 Hempstead Turnpike, Elmont, New York, 11003           SUBWAY®\n",
       "3988       1070 2nd Avenue, New York, New York, 10022   NY Jumbo Bagels\n",
       "1048  2137 Nostrand Avenue, Brooklyn, New York, 11210  Fisherman's Cove\n",
       "7539        519 6th Avenue, New York, New York, 10011        Cafe Water\n",
       "8548       1005 2nd Avenue, New York, New York, 10022   Primavera Pizza"
      ]
     },
     "execution_count": 7,
     "metadata": {},
     "output_type": "execute_result"
    }
   ],
   "source": [
    "df_rest.sample(n=5)"
   ]
  },
  {
   "cell_type": "code",
   "execution_count": 8,
   "metadata": {
    "ExecuteTime": {
     "end_time": "2019-02-13T07:44:41.136647Z",
     "start_time": "2019-02-13T07:44:40.633132Z"
    }
   },
   "outputs": [
    {
     "data": {
      "text/html": [
       "<div>\n",
       "<style scoped>\n",
       "    .dataframe tbody tr th:only-of-type {\n",
       "        vertical-align: middle;\n",
       "    }\n",
       "\n",
       "    .dataframe tbody tr th {\n",
       "        vertical-align: top;\n",
       "    }\n",
       "\n",
       "    .dataframe thead th {\n",
       "        text-align: right;\n",
       "    }\n",
       "</style>\n",
       "<table border=\"1\" class=\"dataframe\">\n",
       "  <thead>\n",
       "    <tr style=\"text-align: right;\">\n",
       "      <th></th>\n",
       "      <th>CAMIS</th>\n",
       "      <th>name</th>\n",
       "      <th>BORO</th>\n",
       "      <th>BUILDING</th>\n",
       "      <th>STREET</th>\n",
       "      <th>ZIPCODE</th>\n",
       "      <th>PHONE</th>\n",
       "      <th>CUISINE DESCRIPTION</th>\n",
       "      <th>INSPECTION DATE</th>\n",
       "      <th>ACTION</th>\n",
       "      <th>VIOLATION CODE</th>\n",
       "      <th>VIOLATION DESCRIPTION</th>\n",
       "      <th>CRITICAL FLAG</th>\n",
       "      <th>SCORE</th>\n",
       "      <th>GRADE</th>\n",
       "      <th>GRADE DATE</th>\n",
       "      <th>RECORD DATE</th>\n",
       "      <th>INSPECTION TYPE</th>\n",
       "      <th>STATE</th>\n",
       "      <th>address</th>\n",
       "    </tr>\n",
       "  </thead>\n",
       "  <tbody>\n",
       "    <tr>\n",
       "      <th>80031</th>\n",
       "      <td>41653607</td>\n",
       "      <td>Chop'T</td>\n",
       "      <td>Manhattan</td>\n",
       "      <td>18</td>\n",
       "      <td>East   23 Street</td>\n",
       "      <td>10010</td>\n",
       "      <td>6467557837</td>\n",
       "      <td>Salads</td>\n",
       "      <td>06/08/2015</td>\n",
       "      <td>Violations were cited in the following area(s).</td>\n",
       "      <td>10F</td>\n",
       "      <td>Non-food contact surface improperly constructe...</td>\n",
       "      <td>Not Critical</td>\n",
       "      <td>13.0</td>\n",
       "      <td>A</td>\n",
       "      <td>06/08/2015</td>\n",
       "      <td>02/06/2019</td>\n",
       "      <td>Cycle Inspection / Re-inspection</td>\n",
       "      <td>New York</td>\n",
       "      <td>18 East   23 Street, Manhattan, New York, 10010</td>\n",
       "    </tr>\n",
       "    <tr>\n",
       "      <th>185458</th>\n",
       "      <td>50080484</td>\n",
       "      <td>Burgerology</td>\n",
       "      <td>Queens</td>\n",
       "      <td>3129</td>\n",
       "      <td>Ditmars Boulevard</td>\n",
       "      <td>11105</td>\n",
       "      <td>5164391009</td>\n",
       "      <td>American</td>\n",
       "      <td>12/26/2018</td>\n",
       "      <td>Violations were cited in the following area(s).</td>\n",
       "      <td>02I</td>\n",
       "      <td>Food prepared from ingredients at ambient temp...</td>\n",
       "      <td>Critical</td>\n",
       "      <td>20.0</td>\n",
       "      <td>B</td>\n",
       "      <td>12/26/2018</td>\n",
       "      <td>02/06/2019</td>\n",
       "      <td>Cycle Inspection / Re-inspection</td>\n",
       "      <td>New York</td>\n",
       "      <td>3129 Ditmars Boulevard, Queens, New York, 11105</td>\n",
       "    </tr>\n",
       "    <tr>\n",
       "      <th>374254</th>\n",
       "      <td>40859971</td>\n",
       "      <td>Hong Cheong</td>\n",
       "      <td>Manhattan</td>\n",
       "      <td>2393</td>\n",
       "      <td>Frederick Douglas Boulevard</td>\n",
       "      <td>10027</td>\n",
       "      <td>2123166688</td>\n",
       "      <td>Chinese</td>\n",
       "      <td>05/25/2017</td>\n",
       "      <td>Violations were cited in the following area(s).</td>\n",
       "      <td>10F</td>\n",
       "      <td>Non-food contact surface improperly constructe...</td>\n",
       "      <td>Not Critical</td>\n",
       "      <td>7.0</td>\n",
       "      <td>A</td>\n",
       "      <td>05/25/2017</td>\n",
       "      <td>02/06/2019</td>\n",
       "      <td>Cycle Inspection / Initial Inspection</td>\n",
       "      <td>New York</td>\n",
       "      <td>2393 Frederick Douglas Boulevard, Manhattan, N...</td>\n",
       "    </tr>\n",
       "    <tr>\n",
       "      <th>69653</th>\n",
       "      <td>41084481</td>\n",
       "      <td>Joe'S Ginger Restaurant</td>\n",
       "      <td>Manhattan</td>\n",
       "      <td>25</td>\n",
       "      <td>Pell Street</td>\n",
       "      <td>10013</td>\n",
       "      <td>2122850333</td>\n",
       "      <td>Chinese</td>\n",
       "      <td>07/26/2016</td>\n",
       "      <td>Violations were cited in the following area(s).</td>\n",
       "      <td>04L</td>\n",
       "      <td>Evidence of mice or live mice present in facil...</td>\n",
       "      <td>Critical</td>\n",
       "      <td>37.0</td>\n",
       "      <td>NaN</td>\n",
       "      <td>NaN</td>\n",
       "      <td>02/06/2019</td>\n",
       "      <td>Cycle Inspection / Initial Inspection</td>\n",
       "      <td>New York</td>\n",
       "      <td>25 Pell Street, Manhattan, New York, 10013</td>\n",
       "    </tr>\n",
       "    <tr>\n",
       "      <th>81333</th>\n",
       "      <td>50004389</td>\n",
       "      <td>Roxy Diner</td>\n",
       "      <td>Manhattan</td>\n",
       "      <td>694</td>\n",
       "      <td>8Th Avenue</td>\n",
       "      <td>10036</td>\n",
       "      <td>2125759700</td>\n",
       "      <td>American</td>\n",
       "      <td>04/13/2016</td>\n",
       "      <td>Violations were cited in the following area(s).</td>\n",
       "      <td>06E</td>\n",
       "      <td>Sanitized equipment or utensil, including in-u...</td>\n",
       "      <td>Critical</td>\n",
       "      <td>10.0</td>\n",
       "      <td>NaN</td>\n",
       "      <td>NaN</td>\n",
       "      <td>02/06/2019</td>\n",
       "      <td>Cycle Inspection / Initial Inspection</td>\n",
       "      <td>New York</td>\n",
       "      <td>694 8Th Avenue, Manhattan, New York, 10036</td>\n",
       "    </tr>\n",
       "  </tbody>\n",
       "</table>\n",
       "</div>"
      ],
      "text/plain": [
       "           CAMIS                     name       BORO BUILDING  \\\n",
       "80031   41653607                   Chop'T  Manhattan       18   \n",
       "185458  50080484              Burgerology     Queens     3129   \n",
       "374254  40859971              Hong Cheong  Manhattan     2393   \n",
       "69653   41084481  Joe'S Ginger Restaurant  Manhattan       25   \n",
       "81333   50004389               Roxy Diner  Manhattan      694   \n",
       "\n",
       "                             STREET ZIPCODE       PHONE CUISINE DESCRIPTION  \\\n",
       "80031              East   23 Street   10010  6467557837              Salads   \n",
       "185458            Ditmars Boulevard   11105  5164391009            American   \n",
       "374254  Frederick Douglas Boulevard   10027  2123166688             Chinese   \n",
       "69653                   Pell Street   10013  2122850333             Chinese   \n",
       "81333                    8Th Avenue   10036  2125759700            American   \n",
       "\n",
       "       INSPECTION DATE                                           ACTION  \\\n",
       "80031       06/08/2015  Violations were cited in the following area(s).   \n",
       "185458      12/26/2018  Violations were cited in the following area(s).   \n",
       "374254      05/25/2017  Violations were cited in the following area(s).   \n",
       "69653       07/26/2016  Violations were cited in the following area(s).   \n",
       "81333       04/13/2016  Violations were cited in the following area(s).   \n",
       "\n",
       "       VIOLATION CODE                              VIOLATION DESCRIPTION  \\\n",
       "80031             10F  Non-food contact surface improperly constructe...   \n",
       "185458            02I  Food prepared from ingredients at ambient temp...   \n",
       "374254            10F  Non-food contact surface improperly constructe...   \n",
       "69653             04L  Evidence of mice or live mice present in facil...   \n",
       "81333             06E  Sanitized equipment or utensil, including in-u...   \n",
       "\n",
       "       CRITICAL FLAG  SCORE GRADE  GRADE DATE RECORD DATE  \\\n",
       "80031   Not Critical   13.0     A  06/08/2015  02/06/2019   \n",
       "185458      Critical   20.0     B  12/26/2018  02/06/2019   \n",
       "374254  Not Critical    7.0     A  05/25/2017  02/06/2019   \n",
       "69653       Critical   37.0   NaN         NaN  02/06/2019   \n",
       "81333       Critical   10.0   NaN         NaN  02/06/2019   \n",
       "\n",
       "                              INSPECTION TYPE     STATE  \\\n",
       "80031        Cycle Inspection / Re-inspection  New York   \n",
       "185458       Cycle Inspection / Re-inspection  New York   \n",
       "374254  Cycle Inspection / Initial Inspection  New York   \n",
       "69653   Cycle Inspection / Initial Inspection  New York   \n",
       "81333   Cycle Inspection / Initial Inspection  New York   \n",
       "\n",
       "                                                  address  \n",
       "80031     18 East   23 Street, Manhattan, New York, 10010  \n",
       "185458    3129 Ditmars Boulevard, Queens, New York, 11105  \n",
       "374254  2393 Frederick Douglas Boulevard, Manhattan, N...  \n",
       "69653          25 Pell Street, Manhattan, New York, 10013  \n",
       "81333          694 8Th Avenue, Manhattan, New York, 10036  "
      ]
     },
     "execution_count": 8,
     "metadata": {},
     "output_type": "execute_result"
    }
   ],
   "source": [
    "df_inspect.sample(n=5)"
   ]
  },
  {
   "cell_type": "code",
   "execution_count": 9,
   "metadata": {
    "ExecuteTime": {
     "end_time": "2019-02-13T07:44:41.143751Z",
     "start_time": "2019-02-13T07:44:41.139364Z"
    }
   },
   "outputs": [],
   "source": [
    "# expand_address('11 W 32nd St Frnt 1 # 6, New York, NY, 10001')\n",
    "\n",
    "# fuzz.ratio(row_rest['address_expand'][0], '31-91 21st st astoria new york 11106')"
   ]
  },
  {
   "cell_type": "code",
   "execution_count": 10,
   "metadata": {
    "ExecuteTime": {
     "end_time": "2019-02-13T07:45:22.694368Z",
     "start_time": "2019-02-13T07:44:41.153341Z"
    }
   },
   "outputs": [],
   "source": [
    "df_rest['address_expand'] = df_rest['address'].apply(expand_address)\n",
    "df_inspect['address_expand'] = df_inspect['address'].apply(expand_address)"
   ]
  },
  {
   "cell_type": "code",
   "execution_count": null,
   "metadata": {
    "ExecuteTime": {
     "start_time": "2019-02-13T08:11:40.616Z"
    }
   },
   "outputs": [
    {
     "data": {
      "application/vnd.jupyter.widget-view+json": {
       "model_id": "ed6dc7af86ee4732a0562a241635c4c3",
       "version_major": 2,
       "version_minor": 0
      },
      "text/plain": [
       "HBox(children=(IntProgress(value=0, max=9979), HTML(value='')))"
      ]
     },
     "metadata": {},
     "output_type": "display_data"
    }
   ],
   "source": [
    "options = df_inspect['address_expand'].apply(lambda x: x[0])\n",
    "\n",
    "df_inspect['fuzzy_matched'] = False\n",
    "df_rest['fuzzy_matched'] = False\n",
    "df_rest['matched_address'] = np.nan\n",
    "df_rest['matched_name'] = np.nan\n",
    "df_rest['matched_index'] = np.nan\n",
    "\n",
    "scorer = fuzz.ratio\n",
    "score_cutoff = 95\n",
    "\n",
    "for idx_rest, row_rest in tqdm_notebook(df_rest.iterrows(), total=df_rest.shape[0]):\n",
    "    result = process.extractOne(row_rest['address_expand'][0], options,\n",
    "                                scorer=scorer,\n",
    "                                score_cutoff=score_cutoff)\n",
    "    if result:\n",
    "        df_inspect.loc[idx_insp, 'fuzzy_matched'] = True\n",
    "        df_rest.loc[idx_rest, 'fuzzy_matched'] = True\n",
    "        df_rest.loc[idx_rest, 'matched_address'] = df_inspect.loc[result[2], 'address']\n",
    "        df_rest.loc[idx_rest, 'matched_name'] = df_inspect.loc[result[2], 'name']\n",
    "        df_rest.loc[idx_rest, 'matched_index'] = result[2]\n",
    "        # print('=' * 30)\n",
    "        # print(result)\n",
    "        \n",
    "        # remove this entry from consideration\n",
    "        options = options[~options.index.isin([result[2]])]\n"
   ]
  },
  {
   "cell_type": "code",
   "execution_count": null,
   "metadata": {},
   "outputs": [],
   "source": [
    "# df_inspect['fuzzy_matched'] = False\n",
    "# df_rest['fuzzy_matched'] = False\n",
    "# df_rest['matched_address'] = np.nan\n",
    "# df_rest['matched_name'] = np.nan\n",
    "# df_rest['matched_index'] = np.nan\n",
    "\n",
    "# scorer = fuzz.ratio\n",
    "# score_cutoff = 95\n",
    "\n",
    "# for idx_rest, row_rest in tqdm_notebook(df_rest.iterrows(), total=df_rest.shape[0]):\n",
    "#     for idx_insp, row_insp in df_inspect.loc[~df_inspect['fuzzy_matched']].iterrows():\n",
    "#         # compare to 0th address in df_inspect\n",
    "#         if scorer(row_rest['address_expand'][0], row_insp['address_expand'][0]) >= score_cutoff:\n",
    "#             df_inspect.loc[idx_insp, 'fuzzy_matched'] = True\n",
    "#             df_rest.loc[idx_rest, 'fuzzy_matched'] = True\n",
    "#             df_rest.loc[idx_rest, 'matched_address'] = row_insp['address']\n",
    "#             df_rest.loc[idx_rest, 'matched_name'] = row_insp['name']\n",
    "#             df_rest.loc[idx_rest, 'matched_index'] = idx_insp\n",
    "#             # print('=' * 30)\n",
    "#             # print(idx_insp)\n",
    "#             # print(result)\n",
    "#             break\n",
    "\n",
    "# #         # search through all addresses in df_inspect\n",
    "# #         result = process.extractOne(row_rest['address_expand'][0], row_insp['address_expand'],\n",
    "# #                                     scorer=scorer,\n",
    "# #                                     score_cutoff=score_cutoff)\n",
    "# #         if result:\n",
    "# #             df_inspect.loc[idx_insp, 'fuzzy_matched'] = True\n",
    "# #             df_rest.loc[idx_rest, 'fuzzy_matched'] = True\n",
    "# #             df_rest.loc[idx_rest, 'matched_address'] = row_insp['address']\n",
    "# #             df_rest.loc[idx_rest, 'matched_name'] = row_insp['name']\n",
    "# #             df_rest.loc[idx_rest, 'matched_index'] = idx_insp\n",
    "# #             # print('=' * 30)\n",
    "# #             # print(idx_insp)\n",
    "# #             # print(result)\n",
    "# #             break"
   ]
  },
  {
   "cell_type": "code",
   "execution_count": null,
   "metadata": {},
   "outputs": [],
   "source": []
  }
 ],
 "metadata": {
  "anaconda-cloud": {},
  "kernelspec": {
   "display_name": "py3",
   "language": "python",
   "name": "py3"
  },
  "language_info": {
   "codemirror_mode": {
    "name": "ipython",
    "version": 3
   },
   "file_extension": ".py",
   "mimetype": "text/x-python",
   "name": "python",
   "nbconvert_exporter": "python",
   "pygments_lexer": "ipython3",
   "version": "3.6.6"
  },
  "toc": {
   "base_numbering": 1,
   "nav_menu": {
    "height": "12px",
    "width": "252px"
   },
   "number_sections": true,
   "sideBar": true,
   "skip_h1_title": false,
   "title_cell": "Table of Contents",
   "title_sidebar": "Contents",
   "toc_cell": true,
   "toc_position": {},
   "toc_section_display": "block",
   "toc_window_display": false
  }
 },
 "nbformat": 4,
 "nbformat_minor": 1
}
